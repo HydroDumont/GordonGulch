{
 "cells": [
  {
   "cell_type": "markdown",
   "metadata": {},
   "source": [
    "# Inversion of Gordon Gulch dataset\n",
    "- Processing of baseline + survey\n",
    "- Extracting reciprocal model\n",
    "- Time lapse inversion"
   ]
  },
  {
   "cell_type": "code",
   "execution_count": null,
   "metadata": {},
   "outputs": [],
   "source": [
    "# Import functions\n",
    "\n",
    "import os\n",
    "import numpy as np\n",
    "import matplotlib.pyplot as plt\n",
    "import pandas as pd\n",
    "\n",
    "import matplotlib.dates as mdates\n",
    "from os.path import isfile, join, exists\n",
    "from resipy import Project #to install: pip install resipy"
   ]
  },
  {
   "cell_type": "code",
   "execution_count": null,
   "metadata": {},
   "outputs": [],
   "source": [
    "# Mesh & Inversion parameters\n",
    "# =============================================================================\n",
    "\n",
    "#Mesh parameters\n",
    "mgeom={}         #define geometries?\n",
    "msurf=None       #didn't find what this means > maybe to define geometries\n",
    "mcl= 0.3         #cell size between in function of electrode distance - from fine 0.0875 to coarse 0.875\n",
    "mcl_factor= 6    #cell size increase with depth - from 1 to 10\n",
    "mrefine= 0       #refine cell size - 0 = False; 1 = True\n",
    "mfmd=None        #fine/coarse boundary depth (in m)\n",
    "\n",
    "#ResIPy inversion parameters\n",
    "iErr = True     #Does inversion take error into account? True/False\n",
    "ipar = True    #Does inversion run on parallel? True/False\n",
    "iDOI = False    #Does inversion estimate DOI? True/False\n",
    "\n",
    "#R2 inversion parameters\n",
    "iDataType = 1   #0 for true data based inversion or 1 for log data based.\n",
    "iInvType = 2    #0 for pseudo-Marquardt solution / 1 for regularised solution with linear filter / 2 for regularised tpe with quadratic filter / 3 for qualitative solution / 4 for blocked linear regularised type.\n",
    "iMaxIter = 10   #maximum iteration\n",
    "iTarget = 0.0   #real number which allows the user to specify the relative reduction of mistfit in each iteration. A value of 0.25 will mean that R2 will aim to drop the misfit by 25% (and no more) of the value at the start of the iteration.\n",
    "                #This allows a slower progression of the inversion, which can often result in a better convergence. If you set target_decrease to 0.0 then R2 will try to achieve the maximum reduction in misfit in the iteration.\n",
    "\n",
    "iResMatrix = 1  #1 = sensibility matrix calculated (faster); 2 = true resolution matrix (longer); (3) sensitivity map with a jacobian matrix and roughness matrix as output.\n",
    "                #0 for no sensitivity matrix estimation. High values indicate high sensitivity, low values indicate poor sensitivity. Plot on a log scale.\n",
    "\n",
    "iRegMod = 2    #0 for normal regularisation; or 1 if you want to include regularisation relative to your starting resistivity (see mesh resisitivity values); or 2 if you wish to regularise relatdive to a previous dataset using the “Difference inversion” of LaBrecque and Yang (2001).\n",
    "iErrMod = 2    #0 if you wish to preserve the data weights, 2 if you wish the inversion to update the weights as the inversion progresses based on how good a fit each data point makes.\n",
    "iAaniso = 1    #alpha_aniso is the anisotropy of the smoothing factor, set alpha_aniso > 1 for smoother horizontal models, alpha_aniso < 1 for smoother vertical models, or alpha_aniso=1 for normal (isotropic) regularisation.\n"
   ]
  },
  {
   "cell_type": "code",
   "execution_count": null,
   "metadata": {},
   "outputs": [],
   "source": [
    "# Import data\n",
    "\n"
   ]
  }
 ],
 "metadata": {
  "kernelspec": {
   "display_name": "geophy",
   "language": "python",
   "name": "python3"
  },
  "language_info": {
   "name": "python",
   "version": "3.9.19"
  }
 },
 "nbformat": 4,
 "nbformat_minor": 2
}
