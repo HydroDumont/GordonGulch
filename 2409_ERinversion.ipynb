{
 "cells": [
  {
   "cell_type": "markdown",
   "metadata": {},
   "source": [
    "# Inversion of Gordon Gulch dataset\n",
    "\n",
    "> Inversion in function of the background (first survey June 24)\n",
    "\n",
    "- Processing of baseline + survey\n",
    "- Extracting reciprocal model\n",
    "- Difference inversion (Labrecque & Yang 2001)\n",
    "\n",
    "> Plots: \n",
    "\n",
    "- 0-Mesh\n",
    "- 1-Reciprocal error model\n",
    "- 2-Reciprocal error histogram\n",
    "- 3-Pseudo section\n",
    "- 4-Resistivity profiles\n",
    "- 5-Resistivity difference profiles\n",
    "- 6-Inversion error profile"
   ]
  },
  {
   "cell_type": "code",
   "execution_count": null,
   "metadata": {},
   "outputs": [],
   "source": [
    "import os\n",
    "import sys\n",
    "import numpy as np\n",
    "import matplotlib.pyplot as plt\n",
    "\n",
    "sys.path.append((os.path.relpath('ResIPy folder')))\n",
    "from resipy import Project #to install: pip install resipy\n",
    "\n",
    "Line = 'C'\n",
    "fadd = '-JuneBG'"
   ]
  },
  {
   "cell_type": "markdown",
   "metadata": {},
   "source": [
    "> Import data & Create mesh + topography"
   ]
  },
  {
   "cell_type": "code",
   "execution_count": null,
   "metadata": {},
   "outputs": [],
   "source": [
    "# Mesh & Inversion parameters =============================================================================\n",
    "\n",
    "#Mesh parameters\n",
    "mgeom={}         #define geometries?\n",
    "msurf=None       #didn't find what this means > maybe to define geometries\n",
    "mcl= 0.5         #cell size between in function of electrode distance - from fine 0.0875 to coarse 0.875\n",
    "mcl_factor= 6    #cell size increase with depth - from 1 to 10\n",
    "mrefine= 0       #refine cell size - 0 = False; 1 = True\n",
    "mfmd=None        #fine/coarse boundary depth (in m)\n",
    "\n",
    "# Projec initialization & mesh creation =============================================================================\n",
    "folder = os.path.join('working folder' \n",
    "                      + Line + '/')\n",
    "\n",
    "k = Project(typ='R2',dirname=folder)\n",
    "k.createTimeLapseSurvey(folder + 'Data/', ftype=\"ProtocolDC\")\n",
    "k.importElec(os.path.join(folder + 'line' + Line + '.csv'))\n",
    "k.createMesh(typ='trian', geom_input= mgeom, surface= msurf, cl= mcl, \n",
    "               cl_factor= mcl_factor, refine= mrefine, fmd= mfmd)\n",
    "\n",
    "fig, ax = plt.subplots(figsize=(10, 5))\n",
    "k.showMesh(ax=ax)\n",
    "sfile = np.str_(folder + '0-mesh.png')\n",
    "plt.savefig(sfile, dpi=200)"
   ]
  },
  {
   "cell_type": "markdown",
   "metadata": {},
   "source": [
    "> Inversion parameters"
   ]
  },
  {
   "cell_type": "code",
   "execution_count": 3,
   "metadata": {},
   "outputs": [],
   "source": [
    "k.param['lineTitle'] = 'ER TL inversion'  #Project name\n",
    "k.param['job_type'] = 1                   #0 forward only - 1 Inverse problem\n",
    "k.param['flux_type'] = 3                  #2 = 2D current flows / 3 = 3D current flows\n",
    "k.param['Lowry et al., 1989'] = 0         #0/1 to define if you want to use singularity removal from Lowry et a., 1989.\n",
    "resm = 1\n",
    "k.param['res_matrix'] = resm              #1 = sensibility matrix calculated (faster); 2 = true resolution matrix (longer); (3) sensitivity map with a jacobian matrix and roughness matrix as outpu; 0 for no sensitivity matrix estimation.\n",
    "                                          #High values indicate high sensitivity, low values indicate poor sensitivity. Plot on a log scale.\n",
    "k.param['inverse_type'] = 2               #0 for pseudo-Marquardt solution / 1 for regularised solution with linear filter / 2 for regularised tpe with quadratic filter / 3 for qualitative solution / 4 for blocked linear regularised type.\n",
    "k.param['target_decrease'] = 0            #real number which allows the user to specify the relative reduction of mistfit in each iteration. A value of 0.25 will mean that R2 will aim to drop the misfit by 25% (and no more) of the value at the start of the iteration.\n",
    "                                          #This allows a slower progression of the inversion, which can often result in a better convergence. If you set target_decrease to 0.0 then R2 will try to achieve the maximum reduction in misfit in the iteration.\n",
    "k.param['data_type'] = 1                  #0 for true data based inversion or 1 for log data based.\n",
    "k.param['reg_mode'] = 2                   #0 for normal regularisation; or 1 if you want to include regularisation relative to your starting resistivity (see mesh resisitivity values); or 2 if you wish to regularise relative to a previous dataset using the “Difference inversion” of LaBrecque and Yang (2001).\n",
    "k.param['max_iter'] = 10                  #maximum iteration,
    "k.param['error_mod'] = 2                  #0 if you wish to preserve the data weights, 2 if you wish the inversion to update the weights as the inversion progresses based on how good a fit each data point makes.\n"
   ]
  },
  {
   "cell_type": "markdown",
   "metadata": {},
   "source": [
    "> Fit & plot error model\n",
    "\n",
    "> Error histogram and filter reciprocal error"
   ]
  },
  {
   "cell_type": "code",
   "execution_count": null,
   "metadata": {},
   "outputs": [],
   "source": [
    "# Error model =============================================================\n",
    "fig, axes = plt.subplots(2,2,figsize=(14,14), sharex=True, sharey= True)\n",
    "for i, ax in enumerate(axes.flat):\n",
    "    k.fitErrorPwl(index=i,ax=ax)\n",
    "    k.err = True\n",
    "    k.param[\"a_wgt\"] = 0.000000\n",
    "    k.param[\"b_wgt\"] = 0.000000\n",
    "    ax.legend(title=f'Error model Surveys #{i}')\n",
    "    if i < 2:\n",
    "        ax.set_xlabel('')\n",
    "    if i == 1:\n",
    "        ax.set_ylabel('')\n",
    "    elif i == 3:\n",
    "        ax.set_ylabel('')\n",
    "    tl = ax.get_title()\n",
    "    ax.set_title(tl[41:])\n",
    "plt.rc('font', size=16)\n",
    "plt.tight_layout()\n",
    "\n",
    "sfile = np.str_(folder + '1-errormodels' + fadd + '.png')\n",
    "plt.savefig(sfile, dpi=200) \n",
    "\n",
    "# Error histogram =============================================================\n",
    "fig, axs = plt.subplots(1,2,figsize=(10,6), sharey=True)\n",
    "# Error histogram\n",
    "k.showErrorDist(ax=axs[0])\n",
    "xmin, xmax = axs[0].get_xlim()\n",
    "axs[0].set_xlim([xmin*0.5, xmax*0.5])\n",
    "axs[0].set_title('Raw reciprocal Error', fontsize=14)\n",
    "axs[0].legend(fontsize=14)\n",
    "k.filterRecip(percent=25,index=-1)  #index = -1 filter all the surveys\n",
    "\n",
    "# Error histogram after filtering\n",
    "k.showErrorDist(ax=axs[1])\n",
    "xmin, xmax = axs[1].get_xlim()\n",
    "axs[1].set_xlim([xmin*0.5, xmax*0.5])\n",
    "axs[1].set_title('Reciprocal error after filtering', fontsize=14)\n",
    "axs[1].legend(fontsize=14)\n",
    "plt.rc('font', size=16)\n",
    "plt.tight_layout()\n",
    "\n",
    "sfile = np.str_(folder + '2-errorhist' + fadd + '.png')\n",
    "plt.savefig(sfile, dpi=200) "
   ]
  },
  {
   "cell_type": "markdown",
   "metadata": {},
   "source": [
    "> Inversion"
   ]
  },
  {
   "cell_type": "code",
   "execution_count": null,
   "metadata": {},
   "outputs": [],
   "source": [
    "k.invert(parallel=True, modelDOI=True)"
   ]
  },
  {
   "cell_type": "markdown",
   "metadata": {},
   "source": [
    "> Plot\n",
    "- Pseudo section\n",
    "- Resistivity\n",
    "- Difference of resistivity\n",
    "- Inversion error"
   ]
  },
  {
   "cell_type": "code",
   "execution_count": null,
   "metadata": {},
   "outputs": [],
   "source": [
    "# Pseudo =============================================================\n",
    "fig, axs = plt.subplots(4,1,figsize=(16,13), sharex=True)\n",
    "for i, ax in enumerate(axs):\n",
    "    k.showPseudo(index=i, ax=ax)\n",
    "    ax.set_xlabel('')\n",
    "plt.tight_layout()\n",
    "sfile = np.str_(folder + '3-Pseudo' + fadd + '.png')\n",
    "plt.savefig(sfile, dpi=200)\n",
    "\n",
    "# Resistivity =============================================================\n",
    "fig, axs = plt.subplots(4,1,figsize=(16,13), sharex=True)\n",
    "for i, ax in enumerate(axs):\n",
    "    k.showResults(index=i, ax=ax, edge_color=\"none\", contour=False, sens=True, attr=\"Resistivity(log10)\", \n",
    "                color_map=\"viridis\", sensPrc=0.20, doi=False, doiSens=False,\n",
    "                vmin=2, vmax=3.7, clipContour= True,\n",
    "                clabel=r'$\\rho$ [$\\Omega \\cdot m$]')\n",
    "    ax.set_xlabel('')\n",
    "plt.tight_layout()\n",
    "sfile = np.str_(folder + '4-Resistivity' + fadd + '.png')\n",
    "plt.savefig(sfile, dpi=200)\n",
    "\n",
    "# Resistivity difference =============================================================\n",
    "fig, axs = plt.subplots(3,1,figsize=(16,10),sharex=True)\n",
    "for i, ax in enumerate(axs):\n",
    "    k.showResults(index=i+1, ax=ax, edge_color=\"none\", contour=False, sens=True, attr=\"difference(percent)\", \n",
    "                color_map=\"Spectral_r\", sensPrc=0.20, doi=False, doiSens=False,\n",
    "                vmin=-60, vmax=60, clipContour= True,\n",
    "                clabel=r'rho difference [%]')\n",
    "    ax.set_xlabel('')\n",
    "plt.tight_layout()\n",
    "sfile = np.str_(folder + '5-RhoDifference' + fadd + '.png')\n",
    "plt.savefig(sfile, dpi=200)\n",
    "\n",
    "# Inv Error =============================================================\n",
    "fig, axs = plt.subplots(4,1,figsize=(16,13), sharex=True)\n",
    "for i, ax in enumerate(axs):\n",
    "    k.showPseudoInvError(index=i, ax=ax, elec=False)\n",
    "    ax.set_xlabel('')\n",
    "plt.tight_layout()\n",
    "sfile = np.str_(folder + '6-InvError' + fadd + '.png')\n",
    "plt.savefig(sfile, dpi=200)\n",
    "\n",
    "# if resm == 2:\n",
    "#     fig, ax = plt.subplots(figsize=(20,6))\n",
    "#     k.showResults(index=0, ax=ax, edge_color=\"none\", contour=False, sens=True, attr=\"Resolution(log10)\", \n",
    "#                     color_map=\"viridis\", sensPrc=0.20, doi=False, doiSens=False,\n",
    "#                     clabel=r'Resolution matrix]')\n",
    "#     sfile = np.str_(folder + '4-Resolution' + fadd + '.png')\n",
    "#     plt.tight_layout()\n",
    "#     plt.savefig(sfile, dpi=200)"
   ]
  }
 ],
 "metadata": {
  "kernelspec": {
   "display_name": "geophy",
   "language": "python",
   "name": "python3"
  },
  "language_info": {
   "codemirror_mode": {
    "name": "ipython",
    "version": 3
   },
   "file_extension": ".py",
   "mimetype": "text/x-python",
   "name": "python",
   "nbconvert_exporter": "python",
   "pygments_lexer": "ipython3",
   "version": "3.8.15"
  }
 },
 "nbformat": 4,
 "nbformat_minor": 2
}
